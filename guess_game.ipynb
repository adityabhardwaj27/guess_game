{
 "cells": [
  {
   "cell_type": "code",
   "execution_count": 3,
   "id": "65aa4bd3-901b-40e9-8806-d1f5ab9244a9",
   "metadata": {},
   "outputs": [],
   "source": [
    "from random import shuffle"
   ]
  },
  {
   "cell_type": "code",
   "execution_count": 7,
   "id": "0174bffc-f656-48c6-8afc-0861230fd5a7",
   "metadata": {},
   "outputs": [],
   "source": [
    "def shuffle_list(mylist):\n",
    "    shuffle(mylist)\n",
    "    return mylist"
   ]
  },
  {
   "cell_type": "code",
   "execution_count": 15,
   "id": "7a54b9a7-b95d-4632-b629-88b6dc561c22",
   "metadata": {},
   "outputs": [],
   "source": [
    "def player_guess():\n",
    "    guess =''\n",
    "    \n",
    "    while guess not in ['0','1','2']:\n",
    "        guess = input(\"pick a number: 0,1 or 2\")\n",
    "\n",
    "    return int(guess)"
   ]
  },
  {
   "cell_type": "code",
   "execution_count": 17,
   "id": "6252f351-c91e-474e-b50b-ff4df51550e3",
   "metadata": {},
   "outputs": [],
   "source": [
    "def check_guess(mylist,guess):\n",
    "    if mylist[guess]=='0':\n",
    "        print('correct!')\n",
    "    else:\n",
    "        print(\"wrong answer!\")\n",
    "        print(mylist)\n",
    "    "
   ]
  },
  {
   "cell_type": "code",
   "execution_count": 21,
   "id": "f31f67ec-03b6-487f-b4b8-7c47e622861a",
   "metadata": {},
   "outputs": [
    {
     "name": "stdin",
     "output_type": "stream",
     "text": [
      "pick a number: 0,1 or 2 2\n"
     ]
    },
    {
     "name": "stdout",
     "output_type": "stream",
     "text": [
      "wrong answer!\n",
      "['0', '', '']\n"
     ]
    }
   ],
   "source": [
    "mylist = ['','0','']\n",
    "\n",
    "mixedup_list= shuffle_list(mylist)\n",
    "\n",
    "guess=player_guess()\n",
    "\n",
    "check_guess(mixedup_list,guess)"
   ]
  },
  {
   "cell_type": "code",
   "execution_count": null,
   "id": "d7b0d87c-c844-4a4e-874e-27887881a5a8",
   "metadata": {},
   "outputs": [],
   "source": []
  }
 ],
 "metadata": {
  "kernelspec": {
   "display_name": "Python 3 (ipykernel)",
   "language": "python",
   "name": "python3"
  },
  "language_info": {
   "codemirror_mode": {
    "name": "ipython",
    "version": 3
   },
   "file_extension": ".py",
   "mimetype": "text/x-python",
   "name": "python",
   "nbconvert_exporter": "python",
   "pygments_lexer": "ipython3",
   "version": "3.11.7"
  }
 },
 "nbformat": 4,
 "nbformat_minor": 5
}
